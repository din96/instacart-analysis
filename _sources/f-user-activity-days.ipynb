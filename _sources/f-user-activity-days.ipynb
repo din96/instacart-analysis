{
 "cells": [
  {
   "cell_type": "markdown",
   "id": "7b31574b",
   "metadata": {},
   "source": [
    "# User activity by days"
   ]
  },
  {
   "cell_type": "markdown",
   "id": "dcfe24ec",
   "metadata": {},
   "source": [
    "## 01 Setup"
   ]
  },
  {
   "cell_type": "code",
   "execution_count": 4,
   "id": "5877a0bb",
   "metadata": {},
   "outputs": [],
   "source": [
    "#Import Libraries\n",
    "import pandas as pd\n",
    "import numpy as np\n",
    "import os\n",
    "import matplotlib.pyplot as plt\n",
    "import seaborn as sns\n",
    "import scipy"
   ]
  },
  {
   "cell_type": "code",
   "execution_count": 5,
   "id": "263e1179",
   "metadata": {},
   "outputs": [],
   "source": [
    "# Path\n",
    "path = r'/Users/peanutcookie/instacart-book/'"
   ]
  },
  {
   "cell_type": "code",
   "execution_count": 6,
   "id": "d2f9997b",
   "metadata": {},
   "outputs": [],
   "source": [
    "# Import orders_products_merged.pkl file\n",
    "df = pd.read_pickle(os.path.join(path, '_database', 'orders_products_merged.pkl'))"
   ]
  },
  {
   "cell_type": "code",
   "execution_count": 7,
   "id": "a5daea0b",
   "metadata": {},
   "outputs": [
    {
     "name": "stdout",
     "output_type": "stream",
     "text": [
      "<class 'pandas.core.frame.DataFrame'>\n",
      "Int64Index: 32404859 entries, 0 to 32404858\n",
      "Data columns (total 16 columns):\n",
      " #   Column                  Dtype   \n",
      "---  ------                  -----   \n",
      " 0   order_id                object  \n",
      " 1   user_id                 object  \n",
      " 2   order_number            int64   \n",
      " 3   orders_day_of_week      int64   \n",
      " 4   order_hour_of_day       int64   \n",
      " 5   days_since_prior_order  float64 \n",
      " 6   new_customer            bool    \n",
      " 7   product_id              object  \n",
      " 8   add_to_cart_order       int64   \n",
      " 9   reordered               int64   \n",
      " 10  _merge                  category\n",
      " 11  product_name            object  \n",
      " 12  aisle_id                object  \n",
      " 13  department_id           object  \n",
      " 14  prices                  float64 \n",
      " 15  exists                  category\n",
      "dtypes: bool(1), category(2), float64(2), int64(5), object(6)\n",
      "memory usage: 3.5+ GB\n"
     ]
    }
   ],
   "source": [
    "df.info()"
   ]
  },
  {
   "cell_type": "markdown",
   "id": "0bdd3476",
   "metadata": {},
   "source": [
    "## 02 User activity by days of the week"
   ]
  },
  {
   "cell_type": "code",
   "execution_count": 8,
   "id": "607917a7",
   "metadata": {},
   "outputs": [
    {
     "data": {
      "text/plain": [
       "0    6204182\n",
       "1    5660230\n",
       "6    4496490\n",
       "2    4213830\n",
       "5    4205791\n",
       "3    3840534\n",
       "4    3783802\n",
       "Name: orders_day_of_week, dtype: int64"
      ]
     },
     "execution_count": 8,
     "metadata": {},
     "output_type": "execute_result"
    }
   ],
   "source": [
    "df['orders_day_of_week'].value_counts(dropna = False)"
   ]
  },
  {
   "cell_type": "code",
   "execution_count": 9,
   "id": "665ebf49",
   "metadata": {},
   "outputs": [],
   "source": [
    "result = []\n",
    "\n",
    "for value in df[\"orders_day_of_week\"]:\n",
    "  if value == 0 or value == 1:\n",
    "    result.append(\"Busiest hours\")\n",
    "  elif value == 4 or value == 3:\n",
    "    result.append(\"Least busy hours\")\n",
    "  else:\n",
    "    result.append(\"Regular hours\")"
   ]
  },
  {
   "cell_type": "code",
   "execution_count": 10,
   "id": "9972c454",
   "metadata": {},
   "outputs": [],
   "source": [
    "df['busiest_days'] = result"
   ]
  },
  {
   "cell_type": "code",
   "execution_count": 12,
   "id": "c69d1bf7",
   "metadata": {},
   "outputs": [
    {
     "data": {
      "text/plain": [
       "Regular hours       12916111\n",
       "Busiest hours       11864412\n",
       "Least busy hours     7624336\n",
       "Name: busiest_days, dtype: int64"
      ]
     },
     "execution_count": 12,
     "metadata": {},
     "output_type": "execute_result"
    }
   ],
   "source": [
    "df['busiest_days'].value_counts(dropna = False)"
   ]
  },
  {
   "cell_type": "markdown",
   "id": "b4bc64c7",
   "metadata": {},
   "source": [
    "## 03 Export"
   ]
  },
  {
   "cell_type": "code",
   "execution_count": 13,
   "id": "553fc1f4",
   "metadata": {},
   "outputs": [],
   "source": [
    "# Export data to pkl\n",
    "df.to_pickle(os.path.join(path, '_database', 'orders_products_merged.pkl'))"
   ]
  }
 ],
 "metadata": {
  "kernelspec": {
   "display_name": "Python 3 (ipykernel)",
   "language": "python",
   "name": "python3"
  },
  "language_info": {
   "codemirror_mode": {
    "name": "ipython",
    "version": 3
   },
   "file_extension": ".py",
   "mimetype": "text/x-python",
   "name": "python",
   "nbconvert_exporter": "python",
   "pygments_lexer": "ipython3",
   "version": "3.10.9"
  }
 },
 "nbformat": 4,
 "nbformat_minor": 5
}
