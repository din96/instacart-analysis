{
 "cells": [
  {
   "cell_type": "markdown",
   "id": "7b31574b",
   "metadata": {},
   "source": [
    "# Max Order"
   ]
  },
  {
   "cell_type": "markdown",
   "id": "dcfe24ec",
   "metadata": {},
   "source": [
    "## 01 Setup"
   ]
  },
  {
   "cell_type": "code",
   "execution_count": null,
   "id": "5877a0bb",
   "metadata": {},
   "outputs": [],
   "source": [
    "#Import Libraries\n",
    "import pandas as pd\n",
    "import numpy as np\n",
    "import os\n",
    "import matplotlib.pyplot as plt\n",
    "import seaborn as sns\n",
    "import scipy"
   ]
  },
  {
   "cell_type": "code",
   "execution_count": 1,
   "id": "263e1179",
   "metadata": {},
   "outputs": [],
   "source": [
    "# Path\n",
    "path = r'/Users/peanutcookie/instacart-book/'"
   ]
  },
  {
   "cell_type": "code",
   "execution_count": null,
   "id": "d2f9997b",
   "metadata": {},
   "outputs": [],
   "source": [
    "# Import orders_products_merged.pkl file\n",
    "df_orders = pd.read_pickle(os.path.join(path, '_database', 'orders_products_merged.pkl'))"
   ]
  }
 ],
 "metadata": {
  "kernelspec": {
   "display_name": "Python 3 (ipykernel)",
   "language": "python",
   "name": "python3"
  },
  "language_info": {
   "codemirror_mode": {
    "name": "ipython",
    "version": 3
   },
   "file_extension": ".py",
   "mimetype": "text/x-python",
   "name": "python",
   "nbconvert_exporter": "python",
   "pygments_lexer": "ipython3",
   "version": "3.10.9"
  }
 },
 "nbformat": 4,
 "nbformat_minor": 5
}
