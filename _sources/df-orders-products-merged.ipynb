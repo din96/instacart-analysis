{
 "cells": [
  {
   "cell_type": "markdown",
   "id": "f9363829",
   "metadata": {},
   "source": [
    "# 2. Orders Products Merged "
   ]
  },
  {
   "cell_type": "markdown",
   "id": "5e84f675",
   "metadata": {},
   "source": [
    "## 01 Setup"
   ]
  },
  {
   "cell_type": "code",
   "execution_count": 1,
   "id": "6c74af7e",
   "metadata": {},
   "outputs": [],
   "source": [
    "#Import libriaries\n",
    "import numpy as np\n",
    "import pandas as pd \n",
    "import os"
   ]
  },
  {
   "cell_type": "code",
   "execution_count": 2,
   "id": "77861580",
   "metadata": {},
   "outputs": [],
   "source": [
    "# Assign folder path\n",
    "path = r'/Users/peanutcookie/instacart-book/'"
   ]
  },
  {
   "cell_type": "code",
   "execution_count": 3,
   "id": "49ce2a63",
   "metadata": {},
   "outputs": [],
   "source": [
    "# Import df_order_products_combined.pkl file \n",
    "df_orders_products_combined = pd.read_pickle(os.path.join(path, '_database', 'orders_products_combined.pkl'))"
   ]
  },
  {
   "cell_type": "code",
   "execution_count": 4,
   "id": "c21b8d72",
   "metadata": {},
   "outputs": [],
   "source": [
    "# Import products.pkl file \n",
    "df_products = pd.read_pickle(os.path.join(path, '_database', 'products.pkl'))"
   ]
  },
  {
   "cell_type": "markdown",
   "id": "ec654944",
   "metadata": {},
   "source": [
    "## 02 Data Combination"
   ]
  },
  {
   "cell_type": "code",
   "execution_count": 5,
   "id": "30f9976f",
   "metadata": {},
   "outputs": [
    {
     "data": {
      "text/plain": [
       "order_id                    object\n",
       "user_id                     object\n",
       "order_number                 int64\n",
       "order_day_of_week            int64\n",
       "order_hour_of_day            int64\n",
       "days_since_prior_order     float64\n",
       "new_customer                  bool\n",
       "product_id                  object\n",
       "add_to_cart_order            int64\n",
       "reordered                    int64\n",
       "_merge                    category\n",
       "dtype: object"
      ]
     },
     "execution_count": 5,
     "metadata": {},
     "output_type": "execute_result"
    }
   ],
   "source": [
    "# Return dataframe data types\n",
    "df_orders_products_combined.dtypes"
   ]
  },
  {
   "cell_type": "code",
   "execution_count": 6,
   "id": "37e2f0f3",
   "metadata": {},
   "outputs": [
    {
     "data": {
      "text/plain": [
       "product_id        object\n",
       "product_name      object\n",
       "department_id     object\n",
       "prices           float64\n",
       "dtype: object"
      ]
     },
     "execution_count": 6,
     "metadata": {},
     "output_type": "execute_result"
    }
   ],
   "source": [
    "# Return dataframe data types\n",
    "df_products.dtypes"
   ]
  },
  {
   "cell_type": "code",
   "execution_count": 7,
   "id": "bb33a0b2",
   "metadata": {},
   "outputs": [
    {
     "data": {
      "text/plain": [
       "(32434489, 11)"
      ]
     },
     "execution_count": 7,
     "metadata": {},
     "output_type": "execute_result"
    }
   ],
   "source": [
    "df_orders_products_combined.shape"
   ]
  },
  {
   "cell_type": "code",
   "execution_count": 8,
   "id": "46ac5bdc",
   "metadata": {},
   "outputs": [
    {
     "data": {
      "text/plain": [
       "(49672, 4)"
      ]
     },
     "execution_count": 8,
     "metadata": {},
     "output_type": "execute_result"
    }
   ],
   "source": [
    "df_products.shape"
   ]
  },
  {
   "cell_type": "markdown",
   "id": "71b1614a",
   "metadata": {},
   "source": [
    "### Combining products and order_products_combined dataframes"
   ]
  },
  {
   "cell_type": "code",
   "execution_count": 9,
   "id": "570f4017",
   "metadata": {},
   "outputs": [],
   "source": [
    "# Combine products and orders_products_combined dataframes\n",
    "df_merged = df_orders_products_combined.merge(df_products, on = 'product_id', indicator = 'exists')"
   ]
  },
  {
   "cell_type": "code",
   "execution_count": 10,
   "id": "284cac6f",
   "metadata": {},
   "outputs": [
    {
     "data": {
      "text/plain": [
       "order_id                    object\n",
       "user_id                     object\n",
       "order_number                 int64\n",
       "order_day_of_week            int64\n",
       "order_hour_of_day            int64\n",
       "days_since_prior_order     float64\n",
       "new_customer                  bool\n",
       "product_id                  object\n",
       "add_to_cart_order            int64\n",
       "reordered                    int64\n",
       "_merge                    category\n",
       "product_name                object\n",
       "department_id               object\n",
       "prices                     float64\n",
       "exists                    category\n",
       "dtype: object"
      ]
     },
     "execution_count": 10,
     "metadata": {},
     "output_type": "execute_result"
    }
   ],
   "source": [
    "df_merged.dtypes"
   ]
  },
  {
   "cell_type": "code",
   "execution_count": 11,
   "id": "d29d4102",
   "metadata": {},
   "outputs": [
    {
     "data": {
      "text/plain": [
       "both          32404859\n",
       "left_only            0\n",
       "right_only           0\n",
       "Name: exists, dtype: int64"
      ]
     },
     "execution_count": 11,
     "metadata": {},
     "output_type": "execute_result"
    }
   ],
   "source": [
    "# Return merge details \n",
    "df_merged['exists'].value_counts()"
   ]
  },
  {
   "cell_type": "code",
   "execution_count": 12,
   "id": "9a3a2c0d",
   "metadata": {},
   "outputs": [
    {
     "data": {
      "text/plain": [
       "order_id                    object\n",
       "user_id                     object\n",
       "order_number                 int64\n",
       "order_day_of_week            int64\n",
       "order_hour_of_day            int64\n",
       "days_since_prior_order     float64\n",
       "new_customer                  bool\n",
       "product_id                  object\n",
       "add_to_cart_order            int64\n",
       "reordered                    int64\n",
       "_merge                    category\n",
       "product_name                object\n",
       "department_id               object\n",
       "prices                     float64\n",
       "exists                    category\n",
       "dtype: object"
      ]
     },
     "execution_count": 12,
     "metadata": {},
     "output_type": "execute_result"
    }
   ],
   "source": [
    "df_merged.dtypes"
   ]
  },
  {
   "cell_type": "markdown",
   "id": "9159ce75",
   "metadata": {},
   "source": [
    "## 03 Export"
   ]
  },
  {
   "cell_type": "code",
   "execution_count": 13,
   "id": "f5890fce",
   "metadata": {},
   "outputs": [],
   "source": [
    "# Export data to pkl\n",
    "df_merged.to_pickle(os.path.join(path, '_database', 'orders_products_merged.pkl'))"
   ]
  }
 ],
 "metadata": {
  "kernelspec": {
   "display_name": "Python 3 (ipykernel)",
   "language": "python",
   "name": "python3"
  },
  "language_info": {
   "codemirror_mode": {
    "name": "ipython",
    "version": 3
   },
   "file_extension": ".py",
   "mimetype": "text/x-python",
   "name": "python",
   "nbconvert_exporter": "python",
   "pygments_lexer": "ipython3",
   "version": "3.10.9"
  }
 },
 "nbformat": 4,
 "nbformat_minor": 5
}
