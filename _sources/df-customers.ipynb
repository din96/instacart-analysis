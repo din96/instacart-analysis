{
 "cells": [
  {
   "cell_type": "markdown",
   "id": "f9363829",
   "metadata": {},
   "source": [
    "# Customers EDA"
   ]
  },
  {
   "cell_type": "markdown",
   "id": "5e84f675",
   "metadata": {},
   "source": [
    "## 01 Setup"
   ]
  },
  {
   "cell_type": "code",
   "execution_count": 1,
   "id": "6c74af7e",
   "metadata": {},
   "outputs": [],
   "source": [
    "#Import libriaries\n",
    "import numpy as np\n",
    "import pandas as pd \n",
    "import os\n",
    "import seaborn as sb"
   ]
  },
  {
   "cell_type": "code",
   "execution_count": 2,
   "id": "77861580",
   "metadata": {},
   "outputs": [],
   "source": [
    "# Path\n",
    "path = r'/Users/peanutcookie/instacart-book/'"
   ]
  },
  {
   "cell_type": "code",
   "execution_count": 3,
   "id": "49ce2a63",
   "metadata": {},
   "outputs": [],
   "source": [
    "# Import .csv file\n",
    "df = pd.read_csv(os.path.join(path, '_csv-raw', 'customers.csv'))"
   ]
  },
  {
   "cell_type": "markdown",
   "id": "ec654944",
   "metadata": {},
   "source": [
    "## 02 Data exploration"
   ]
  },
  {
   "cell_type": "code",
   "execution_count": 4,
   "id": "30f9976f",
   "metadata": {},
   "outputs": [
    {
     "data": {
      "text/plain": [
       "(206209, 10)"
      ]
     },
     "execution_count": 4,
     "metadata": {},
     "output_type": "execute_result"
    }
   ],
   "source": [
    "# Dataframe shape\n",
    "df.shape"
   ]
  },
  {
   "cell_type": "code",
   "execution_count": 5,
   "id": "37e2f0f3",
   "metadata": {},
   "outputs": [
    {
     "data": {
      "text/plain": [
       "user_id          int64\n",
       "First Name      object\n",
       "Surnam          object\n",
       "Gender          object\n",
       "STATE           object\n",
       "Age              int64\n",
       "date_joined     object\n",
       "n_dependants     int64\n",
       "fam_status      object\n",
       "income           int64\n",
       "dtype: object"
      ]
     },
     "execution_count": 5,
     "metadata": {},
     "output_type": "execute_result"
    }
   ],
   "source": [
    "# Return data frame columns names and types of the data their store\n",
    "df.dtypes"
   ]
  },
  {
   "cell_type": "code",
   "execution_count": 6,
   "id": "df17c6bd",
   "metadata": {
    "scrolled": true
   },
   "outputs": [
    {
     "data": {
      "text/html": [
       "<div>\n",
       "<style scoped>\n",
       "    .dataframe tbody tr th:only-of-type {\n",
       "        vertical-align: middle;\n",
       "    }\n",
       "\n",
       "    .dataframe tbody tr th {\n",
       "        vertical-align: top;\n",
       "    }\n",
       "\n",
       "    .dataframe thead th {\n",
       "        text-align: right;\n",
       "    }\n",
       "</style>\n",
       "<table border=\"1\" class=\"dataframe\">\n",
       "  <thead>\n",
       "    <tr style=\"text-align: right;\">\n",
       "      <th></th>\n",
       "      <th>user_id</th>\n",
       "      <th>First Name</th>\n",
       "      <th>Surnam</th>\n",
       "      <th>Gender</th>\n",
       "      <th>STATE</th>\n",
       "      <th>Age</th>\n",
       "      <th>date_joined</th>\n",
       "      <th>n_dependants</th>\n",
       "      <th>fam_status</th>\n",
       "      <th>income</th>\n",
       "    </tr>\n",
       "  </thead>\n",
       "  <tbody>\n",
       "    <tr>\n",
       "      <th>0</th>\n",
       "      <td>26711</td>\n",
       "      <td>Deborah</td>\n",
       "      <td>Esquivel</td>\n",
       "      <td>Female</td>\n",
       "      <td>Missouri</td>\n",
       "      <td>48</td>\n",
       "      <td>1/1/2017</td>\n",
       "      <td>3</td>\n",
       "      <td>married</td>\n",
       "      <td>165665</td>\n",
       "    </tr>\n",
       "    <tr>\n",
       "      <th>1</th>\n",
       "      <td>33890</td>\n",
       "      <td>Patricia</td>\n",
       "      <td>Hart</td>\n",
       "      <td>Female</td>\n",
       "      <td>New Mexico</td>\n",
       "      <td>36</td>\n",
       "      <td>1/1/2017</td>\n",
       "      <td>0</td>\n",
       "      <td>single</td>\n",
       "      <td>59285</td>\n",
       "    </tr>\n",
       "    <tr>\n",
       "      <th>2</th>\n",
       "      <td>65803</td>\n",
       "      <td>Kenneth</td>\n",
       "      <td>Farley</td>\n",
       "      <td>Male</td>\n",
       "      <td>Idaho</td>\n",
       "      <td>35</td>\n",
       "      <td>1/1/2017</td>\n",
       "      <td>2</td>\n",
       "      <td>married</td>\n",
       "      <td>99568</td>\n",
       "    </tr>\n",
       "    <tr>\n",
       "      <th>3</th>\n",
       "      <td>125935</td>\n",
       "      <td>Michelle</td>\n",
       "      <td>Hicks</td>\n",
       "      <td>Female</td>\n",
       "      <td>Iowa</td>\n",
       "      <td>40</td>\n",
       "      <td>1/1/2017</td>\n",
       "      <td>0</td>\n",
       "      <td>single</td>\n",
       "      <td>42049</td>\n",
       "    </tr>\n",
       "    <tr>\n",
       "      <th>4</th>\n",
       "      <td>130797</td>\n",
       "      <td>Ann</td>\n",
       "      <td>Gilmore</td>\n",
       "      <td>Female</td>\n",
       "      <td>Maryland</td>\n",
       "      <td>26</td>\n",
       "      <td>1/1/2017</td>\n",
       "      <td>1</td>\n",
       "      <td>married</td>\n",
       "      <td>40374</td>\n",
       "    </tr>\n",
       "  </tbody>\n",
       "</table>\n",
       "</div>"
      ],
      "text/plain": [
       "   user_id First Name    Surnam  Gender       STATE  Age date_joined  \\\n",
       "0    26711    Deborah  Esquivel  Female    Missouri   48    1/1/2017   \n",
       "1    33890   Patricia      Hart  Female  New Mexico   36    1/1/2017   \n",
       "2    65803    Kenneth    Farley    Male       Idaho   35    1/1/2017   \n",
       "3   125935   Michelle     Hicks  Female        Iowa   40    1/1/2017   \n",
       "4   130797        Ann   Gilmore  Female    Maryland   26    1/1/2017   \n",
       "\n",
       "   n_dependants fam_status  income  \n",
       "0             3    married  165665  \n",
       "1             0     single   59285  \n",
       "2             2    married   99568  \n",
       "3             0     single   42049  \n",
       "4             1    married   40374  "
      ]
     },
     "execution_count": 6,
     "metadata": {},
     "output_type": "execute_result"
    }
   ],
   "source": [
    "df.head(5)"
   ]
  },
  {
   "cell_type": "markdown",
   "id": "63ada08c",
   "metadata": {},
   "source": [
    "## 03 Data validation"
   ]
  },
  {
   "cell_type": "code",
   "execution_count": 7,
   "id": "3ae3a182",
   "metadata": {},
   "outputs": [],
   "source": [
    "# Change column names to match with naming conventions\n",
    "df.rename(columns={'First Name': 'first_name', 'Surnam': 'last_name', 'Gender': 'gender', 'STATE': 'state', 'Age': 'age', 'date_joined': 'signup_date', 'fam_status': 'family_status'}, inplace=True)"
   ]
  },
  {
   "cell_type": "markdown",
   "id": "7bf3fada",
   "metadata": {},
   "source": [
    "## `user_id`"
   ]
  },
  {
   "cell_type": "code",
   "execution_count": 8,
   "id": "44a40ca2",
   "metadata": {},
   "outputs": [],
   "source": [
    "# Change data type to match with other data frames\n",
    "df['user_id'] = df['user_id'].astype('str')"
   ]
  },
  {
   "cell_type": "code",
   "execution_count": 9,
   "id": "df21b23f",
   "metadata": {},
   "outputs": [
    {
     "data": {
      "text/plain": [
       "user_id          object\n",
       "first_name       object\n",
       "last_name        object\n",
       "gender           object\n",
       "state            object\n",
       "age               int64\n",
       "signup_date      object\n",
       "n_dependants      int64\n",
       "family_status    object\n",
       "income            int64\n",
       "dtype: object"
      ]
     },
     "execution_count": 9,
     "metadata": {},
     "output_type": "execute_result"
    }
   ],
   "source": [
    "df.dtypes"
   ]
  },
  {
   "cell_type": "markdown",
   "id": "76599450",
   "metadata": {},
   "source": [
    "### `first_name`"
   ]
  },
  {
   "cell_type": "code",
   "execution_count": 10,
   "id": "e2d671e3",
   "metadata": {},
   "outputs": [
    {
     "data": {
      "text/plain": [
       "NaN        11259\n",
       "Marilyn     2213\n",
       "Barbara     2154\n",
       "Todd        2113\n",
       "Jeremy      2104\n",
       "           ...  \n",
       "Merry        197\n",
       "Eugene       197\n",
       "Garry        191\n",
       "Ned          186\n",
       "David        186\n",
       "Name: first_name, Length: 208, dtype: int64"
      ]
     },
     "execution_count": 10,
     "metadata": {},
     "output_type": "execute_result"
    }
   ],
   "source": [
    "# first_name column exploration - search for missing values\n",
    "df['first_name'].value_counts(dropna = False)"
   ]
  },
  {
   "cell_type": "markdown",
   "id": "52b9276b",
   "metadata": {},
   "source": [
    "`first_name` column has 11259 missing values. It will not affect the data analysis, but it's recommended to update the UI of the application so that the first name field in the signup process is mandatory to fill out. Implications of not having this value are for example issues during the order delivery. "
   ]
  },
  {
   "cell_type": "markdown",
   "id": "23de99a9",
   "metadata": {},
   "source": [
    "### `last_name`"
   ]
  },
  {
   "cell_type": "code",
   "execution_count": 11,
   "id": "dc4c315f",
   "metadata": {},
   "outputs": [
    {
     "data": {
      "text/plain": [
       "Hamilton      252\n",
       "Randall       248\n",
       "Lamb          243\n",
       "Pennington    243\n",
       "Barnett       242\n",
       "             ... \n",
       "Poole         172\n",
       "Bauer         166\n",
       "Pearson       164\n",
       "Payne         163\n",
       "Jordan        162\n",
       "Name: last_name, Length: 1000, dtype: int64"
      ]
     },
     "execution_count": 11,
     "metadata": {},
     "output_type": "execute_result"
    }
   ],
   "source": [
    "# last_name column exploration - search for missing values\n",
    "df['last_name'].value_counts(dropna = False)"
   ]
  },
  {
   "cell_type": "markdown",
   "id": "cc3522bf",
   "metadata": {},
   "source": [
    "### `gender`"
   ]
  },
  {
   "cell_type": "code",
   "execution_count": 12,
   "id": "209ac7ea",
   "metadata": {},
   "outputs": [
    {
     "data": {
      "text/plain": [
       "Male      104067\n",
       "Female    102142\n",
       "Name: gender, dtype: int64"
      ]
     },
     "execution_count": 12,
     "metadata": {},
     "output_type": "execute_result"
    }
   ],
   "source": [
    "# gender column exploration - search for missing values\n",
    "df['gender'].value_counts(dropna = False)"
   ]
  },
  {
   "cell_type": "markdown",
   "id": "8a063d4a",
   "metadata": {},
   "source": [
    "### `state`"
   ]
  },
  {
   "cell_type": "code",
   "execution_count": 13,
   "id": "e3a09178",
   "metadata": {},
   "outputs": [
    {
     "data": {
      "text/plain": [
       "0                  Missouri\n",
       "1                New Mexico\n",
       "2                     Idaho\n",
       "3                      Iowa\n",
       "4                  Maryland\n",
       "5                  Kentucky\n",
       "6                   Montana\n",
       "7            South Carolina\n",
       "8                     Texas\n",
       "9                  Virginia\n",
       "10                   Nevada\n",
       "11                 Nebraska\n",
       "12                  Georgia\n",
       "13                  Wyoming\n",
       "14                 Colorado\n",
       "15             North Dakota\n",
       "17                Wisconsin\n",
       "18                   Alaska\n",
       "19                  Vermont\n",
       "21                 Arkansas\n",
       "22                    Maine\n",
       "23           North Carolina\n",
       "26            West Virginia\n",
       "27                  Indiana\n",
       "28                   Oregon\n",
       "30                  Florida\n",
       "32               California\n",
       "33             Pennsylvania\n",
       "35                     Ohio\n",
       "36              Connecticut\n",
       "37                  Arizona\n",
       "38                Louisiana\n",
       "40               Washington\n",
       "43                 New York\n",
       "54              Mississippi\n",
       "57                 Oklahoma\n",
       "61                     Utah\n",
       "68            New Hampshire\n",
       "76                   Hawaii\n",
       "91     District of Columbia\n",
       "98                  Alabama\n",
       "104           Massachusetts\n",
       "107            Rhode Island\n",
       "108                Michigan\n",
       "123              New Jersey\n",
       "136                  Kansas\n",
       "142            South Dakota\n",
       "161               Minnesota\n",
       "178                Illinois\n",
       "210               Tennessee\n",
       "265                Delaware\n",
       "Name: state, dtype: object"
      ]
     },
     "execution_count": 13,
     "metadata": {},
     "output_type": "execute_result"
    }
   ],
   "source": [
    "# states column exploration - check names \n",
    "states = df['state'].drop_duplicates()\n",
    "states"
   ]
  },
  {
   "cell_type": "code",
   "execution_count": 14,
   "id": "ed3e19d2",
   "metadata": {},
   "outputs": [
    {
     "data": {
      "text/plain": [
       "51"
      ]
     },
     "execution_count": 14,
     "metadata": {},
     "output_type": "execute_result"
    }
   ],
   "source": [
    "# Return number of states\n",
    "states.nunique()"
   ]
  },
  {
   "cell_type": "markdown",
   "id": "d254ef1b",
   "metadata": {},
   "source": [
    "### `age`"
   ]
  },
  {
   "cell_type": "code",
   "execution_count": 15,
   "id": "90a3d2a6",
   "metadata": {},
   "outputs": [
    {
     "data": {
      "text/plain": [
       "19    3329\n",
       "55    3317\n",
       "51    3317\n",
       "56    3306\n",
       "32    3305\n",
       "      ... \n",
       "65    3145\n",
       "25    3127\n",
       "66    3114\n",
       "50    3102\n",
       "36    3101\n",
       "Name: age, Length: 64, dtype: int64"
      ]
     },
     "execution_count": 15,
     "metadata": {},
     "output_type": "execute_result"
    }
   ],
   "source": [
    "# age column exploration - search for missing values\n",
    "df['age'].value_counts(dropna = False)"
   ]
  },
  {
   "cell_type": "code",
   "execution_count": 16,
   "id": "22ac54fe",
   "metadata": {},
   "outputs": [
    {
     "data": {
      "text/plain": [
       "count    206209.000000\n",
       "mean         49.501646\n",
       "std          18.480962\n",
       "min          18.000000\n",
       "25%          33.000000\n",
       "50%          49.000000\n",
       "75%          66.000000\n",
       "max          81.000000\n",
       "Name: age, dtype: float64"
      ]
     },
     "execution_count": 16,
     "metadata": {},
     "output_type": "execute_result"
    }
   ],
   "source": [
    "# age column - look for outliers\n",
    "df['age'].describe()"
   ]
  },
  {
   "cell_type": "markdown",
   "id": "8ba4f86d",
   "metadata": {},
   "source": [
    "### `family_status`"
   ]
  },
  {
   "cell_type": "code",
   "execution_count": 17,
   "id": "278ba99f",
   "metadata": {},
   "outputs": [
    {
     "data": {
      "text/plain": [
       "married                             144906\n",
       "single                               33962\n",
       "divorced/widowed                     17640\n",
       "living with parents and siblings      9701\n",
       "Name: family_status, dtype: int64"
      ]
     },
     "execution_count": 17,
     "metadata": {},
     "output_type": "execute_result"
    }
   ],
   "source": [
    "# Return family status types\n",
    "df['family_status'].value_counts(dropna = False)"
   ]
  },
  {
   "cell_type": "code",
   "execution_count": 18,
   "id": "ae580323",
   "metadata": {
    "scrolled": true
   },
   "outputs": [
    {
     "data": {
      "text/html": [
       "<div>\n",
       "<style scoped>\n",
       "    .dataframe tbody tr th:only-of-type {\n",
       "        vertical-align: middle;\n",
       "    }\n",
       "\n",
       "    .dataframe tbody tr th {\n",
       "        vertical-align: top;\n",
       "    }\n",
       "\n",
       "    .dataframe thead th {\n",
       "        text-align: right;\n",
       "    }\n",
       "</style>\n",
       "<table border=\"1\" class=\"dataframe\">\n",
       "  <thead>\n",
       "    <tr style=\"text-align: right;\">\n",
       "      <th></th>\n",
       "      <th>user_id</th>\n",
       "      <th>first_name</th>\n",
       "      <th>last_name</th>\n",
       "      <th>gender</th>\n",
       "      <th>state</th>\n",
       "      <th>age</th>\n",
       "      <th>signup_date</th>\n",
       "      <th>n_dependants</th>\n",
       "      <th>family_status</th>\n",
       "      <th>income</th>\n",
       "    </tr>\n",
       "  </thead>\n",
       "  <tbody>\n",
       "    <tr>\n",
       "      <th>91</th>\n",
       "      <td>202887</td>\n",
       "      <td>John</td>\n",
       "      <td>Harris</td>\n",
       "      <td>Male</td>\n",
       "      <td>District of Columbia</td>\n",
       "      <td>20</td>\n",
       "      <td>1/1/2017</td>\n",
       "      <td>3</td>\n",
       "      <td>living with parents and siblings</td>\n",
       "      <td>84380</td>\n",
       "    </tr>\n",
       "    <tr>\n",
       "      <th>97</th>\n",
       "      <td>180919</td>\n",
       "      <td>Jacqueline</td>\n",
       "      <td>Roach</td>\n",
       "      <td>Female</td>\n",
       "      <td>Nebraska</td>\n",
       "      <td>21</td>\n",
       "      <td>1/1/2017</td>\n",
       "      <td>3</td>\n",
       "      <td>living with parents and siblings</td>\n",
       "      <td>56831</td>\n",
       "    </tr>\n",
       "    <tr>\n",
       "      <th>177</th>\n",
       "      <td>48809</td>\n",
       "      <td>Raymond</td>\n",
       "      <td>Shah</td>\n",
       "      <td>Male</td>\n",
       "      <td>Alaska</td>\n",
       "      <td>19</td>\n",
       "      <td>1/2/2017</td>\n",
       "      <td>3</td>\n",
       "      <td>living with parents and siblings</td>\n",
       "      <td>89395</td>\n",
       "    </tr>\n",
       "    <tr>\n",
       "      <th>188</th>\n",
       "      <td>79696</td>\n",
       "      <td>Joan</td>\n",
       "      <td>Beltran</td>\n",
       "      <td>Female</td>\n",
       "      <td>Massachusetts</td>\n",
       "      <td>20</td>\n",
       "      <td>1/2/2017</td>\n",
       "      <td>3</td>\n",
       "      <td>living with parents and siblings</td>\n",
       "      <td>56755</td>\n",
       "    </tr>\n",
       "    <tr>\n",
       "      <th>221</th>\n",
       "      <td>43011</td>\n",
       "      <td>Carl</td>\n",
       "      <td>Horn</td>\n",
       "      <td>Male</td>\n",
       "      <td>Kentucky</td>\n",
       "      <td>21</td>\n",
       "      <td>1/2/2017</td>\n",
       "      <td>3</td>\n",
       "      <td>living with parents and siblings</td>\n",
       "      <td>62193</td>\n",
       "    </tr>\n",
       "    <tr>\n",
       "      <th>...</th>\n",
       "      <td>...</td>\n",
       "      <td>...</td>\n",
       "      <td>...</td>\n",
       "      <td>...</td>\n",
       "      <td>...</td>\n",
       "      <td>...</td>\n",
       "      <td>...</td>\n",
       "      <td>...</td>\n",
       "      <td>...</td>\n",
       "      <td>...</td>\n",
       "    </tr>\n",
       "    <tr>\n",
       "      <th>205406</th>\n",
       "      <td>132569</td>\n",
       "      <td>James</td>\n",
       "      <td>Acosta</td>\n",
       "      <td>Male</td>\n",
       "      <td>Maine</td>\n",
       "      <td>21</td>\n",
       "      <td>3/28/2020</td>\n",
       "      <td>3</td>\n",
       "      <td>living with parents and siblings</td>\n",
       "      <td>43892</td>\n",
       "    </tr>\n",
       "    <tr>\n",
       "      <th>205733</th>\n",
       "      <td>181145</td>\n",
       "      <td>Julie</td>\n",
       "      <td>Carroll</td>\n",
       "      <td>Female</td>\n",
       "      <td>Texas</td>\n",
       "      <td>18</td>\n",
       "      <td>3/30/2020</td>\n",
       "      <td>3</td>\n",
       "      <td>living with parents and siblings</td>\n",
       "      <td>88614</td>\n",
       "    </tr>\n",
       "    <tr>\n",
       "      <th>205751</th>\n",
       "      <td>73992</td>\n",
       "      <td>James</td>\n",
       "      <td>Jennings</td>\n",
       "      <td>Male</td>\n",
       "      <td>South Dakota</td>\n",
       "      <td>20</td>\n",
       "      <td>3/30/2020</td>\n",
       "      <td>3</td>\n",
       "      <td>living with parents and siblings</td>\n",
       "      <td>64554</td>\n",
       "    </tr>\n",
       "    <tr>\n",
       "      <th>205770</th>\n",
       "      <td>162009</td>\n",
       "      <td>Wayne</td>\n",
       "      <td>Woodward</td>\n",
       "      <td>Male</td>\n",
       "      <td>Maryland</td>\n",
       "      <td>18</td>\n",
       "      <td>3/30/2020</td>\n",
       "      <td>3</td>\n",
       "      <td>living with parents and siblings</td>\n",
       "      <td>55524</td>\n",
       "    </tr>\n",
       "    <tr>\n",
       "      <th>205816</th>\n",
       "      <td>156394</td>\n",
       "      <td>Brandon</td>\n",
       "      <td>Vaughan</td>\n",
       "      <td>Male</td>\n",
       "      <td>North Carolina</td>\n",
       "      <td>18</td>\n",
       "      <td>3/30/2020</td>\n",
       "      <td>3</td>\n",
       "      <td>living with parents and siblings</td>\n",
       "      <td>75221</td>\n",
       "    </tr>\n",
       "  </tbody>\n",
       "</table>\n",
       "<p>3219 rows × 10 columns</p>\n",
       "</div>"
      ],
      "text/plain": [
       "       user_id  first_name last_name  gender                 state  age  \\\n",
       "91      202887        John    Harris    Male  District of Columbia   20   \n",
       "97      180919  Jacqueline     Roach  Female              Nebraska   21   \n",
       "177      48809     Raymond      Shah    Male                Alaska   19   \n",
       "188      79696        Joan   Beltran  Female         Massachusetts   20   \n",
       "221      43011        Carl      Horn    Male              Kentucky   21   \n",
       "...        ...         ...       ...     ...                   ...  ...   \n",
       "205406  132569       James    Acosta    Male                 Maine   21   \n",
       "205733  181145       Julie   Carroll  Female                 Texas   18   \n",
       "205751   73992       James  Jennings    Male          South Dakota   20   \n",
       "205770  162009       Wayne  Woodward    Male              Maryland   18   \n",
       "205816  156394     Brandon   Vaughan    Male        North Carolina   18   \n",
       "\n",
       "       signup_date  n_dependants                     family_status  income  \n",
       "91        1/1/2017             3  living with parents and siblings   84380  \n",
       "97        1/1/2017             3  living with parents and siblings   56831  \n",
       "177       1/2/2017             3  living with parents and siblings   89395  \n",
       "188       1/2/2017             3  living with parents and siblings   56755  \n",
       "221       1/2/2017             3  living with parents and siblings   62193  \n",
       "...            ...           ...                               ...     ...  \n",
       "205406   3/28/2020             3  living with parents and siblings   43892  \n",
       "205733   3/30/2020             3  living with parents and siblings   88614  \n",
       "205751   3/30/2020             3  living with parents and siblings   64554  \n",
       "205770   3/30/2020             3  living with parents and siblings   55524  \n",
       "205816   3/30/2020             3  living with parents and siblings   75221  \n",
       "\n",
       "[3219 rows x 10 columns]"
      ]
     },
     "execution_count": 18,
     "metadata": {},
     "output_type": "execute_result"
    }
   ],
   "source": [
    "# Investigate colleration with the dependants column \n",
    "df[(df['family_status'] == \"living with parents and siblings\") & (df['n_dependants'] > 2)]"
   ]
  },
  {
   "cell_type": "markdown",
   "id": "78d671de",
   "metadata": {},
   "source": [
    "`family_status` column contain data that is innacurate. It is excluding people with no siblings and mixing divorced status with the widowed status. Also it's corelation with number of dependands looks odd. The column will not be included in the final data frame."
   ]
  },
  {
   "cell_type": "markdown",
   "id": "75f197c6",
   "metadata": {},
   "source": [
    "### `n_dependants`"
   ]
  },
  {
   "cell_type": "code",
   "execution_count": 19,
   "id": "d8013c78",
   "metadata": {},
   "outputs": [
    {
     "data": {
      "text/plain": [
       "0    51602\n",
       "3    51594\n",
       "1    51531\n",
       "2    51482\n",
       "Name: n_dependants, dtype: int64"
      ]
     },
     "execution_count": 19,
     "metadata": {},
     "output_type": "execute_result"
    }
   ],
   "source": [
    "# Return family status types\n",
    "df['n_dependants'].value_counts(dropna = False)"
   ]
  },
  {
   "cell_type": "markdown",
   "id": "28b3af19",
   "metadata": {},
   "source": [
    "`n_dependants` column values are vauge. Also in correlation with `family_status` data the column inputs looks corrupted. The column will not be included for analysis."
   ]
  },
  {
   "cell_type": "markdown",
   "id": "108cb537",
   "metadata": {},
   "source": [
    "### `income`"
   ]
  },
  {
   "cell_type": "code",
   "execution_count": 20,
   "id": "2264097e",
   "metadata": {},
   "outputs": [
    {
     "data": {
      "text/plain": [
       "count    206209.000000\n",
       "mean      94632.852548\n",
       "std       42473.786988\n",
       "min       25903.000000\n",
       "25%       59874.000000\n",
       "50%       93547.000000\n",
       "75%      124244.000000\n",
       "max      593901.000000\n",
       "Name: income, dtype: float64"
      ]
     },
     "execution_count": 20,
     "metadata": {},
     "output_type": "execute_result"
    }
   ],
   "source": [
    "# Search for the outliers\n",
    "df['income'].describe()"
   ]
  },
  {
   "cell_type": "code",
   "execution_count": 21,
   "id": "b8d2d8ca",
   "metadata": {},
   "outputs": [
    {
     "data": {
      "text/plain": [
       "<Axes: xlabel='income'>"
      ]
     },
     "execution_count": 21,
     "metadata": {},
     "output_type": "execute_result"
    },
    {
     "data": {
      "image/png": "[encoded data removed]",
      "text/plain": [
       "<Figure size 640x480 with 1 Axes>"
      ]
     },
     "metadata": {},
     "output_type": "display_data"
    }
   ],
   "source": [
    "# Visualise the column \n",
    "sb.boxplot (x= df['income'])"
   ]
  },
  {
   "cell_type": "markdown",
   "id": "72772e6a",
   "metadata": {},
   "source": [
    "## 04 Duplicates"
   ]
  },
  {
   "cell_type": "code",
   "execution_count": 22,
   "id": "d8848d7c",
   "metadata": {},
   "outputs": [],
   "source": [
    "# Search for duplicates\n",
    "duplicated_rows = df[df.duplicated()]"
   ]
  },
  {
   "cell_type": "code",
   "execution_count": 23,
   "id": "1c94c82f",
   "metadata": {},
   "outputs": [
    {
     "data": {
      "text/html": [
       "<div>\n",
       "<style scoped>\n",
       "    .dataframe tbody tr th:only-of-type {\n",
       "        vertical-align: middle;\n",
       "    }\n",
       "\n",
       "    .dataframe tbody tr th {\n",
       "        vertical-align: top;\n",
       "    }\n",
       "\n",
       "    .dataframe thead th {\n",
       "        text-align: right;\n",
       "    }\n",
       "</style>\n",
       "<table border=\"1\" class=\"dataframe\">\n",
       "  <thead>\n",
       "    <tr style=\"text-align: right;\">\n",
       "      <th></th>\n",
       "      <th>user_id</th>\n",
       "      <th>first_name</th>\n",
       "      <th>last_name</th>\n",
       "      <th>gender</th>\n",
       "      <th>state</th>\n",
       "      <th>age</th>\n",
       "      <th>signup_date</th>\n",
       "      <th>n_dependants</th>\n",
       "      <th>family_status</th>\n",
       "      <th>income</th>\n",
       "    </tr>\n",
       "  </thead>\n",
       "  <tbody>\n",
       "  </tbody>\n",
       "</table>\n",
       "</div>"
      ],
      "text/plain": [
       "Empty DataFrame\n",
       "Columns: [user_id, first_name, last_name, gender, state, age, signup_date, n_dependants, family_status, income]\n",
       "Index: []"
      ]
     },
     "execution_count": 23,
     "metadata": {},
     "output_type": "execute_result"
    }
   ],
   "source": [
    "duplicated_rows"
   ]
  },
  {
   "cell_type": "markdown",
   "id": "61af0e66",
   "metadata": {},
   "source": [
    "## 05 Missing values"
   ]
  },
  {
   "cell_type": "code",
   "execution_count": 24,
   "id": "56b05999",
   "metadata": {},
   "outputs": [
    {
     "data": {
      "text/plain": [
       "user_id              0\n",
       "first_name       11259\n",
       "last_name            0\n",
       "gender               0\n",
       "state                0\n",
       "age                  0\n",
       "signup_date          0\n",
       "n_dependants         0\n",
       "family_status        0\n",
       "income               0\n",
       "dtype: int64"
      ]
     },
     "execution_count": 24,
     "metadata": {},
     "output_type": "execute_result"
    }
   ],
   "source": [
    "# Missing values\n",
    "df.isna().sum()"
   ]
  },
  {
   "cell_type": "markdown",
   "id": "23ad87d9",
   "metadata": {},
   "source": [
    "## 06 Drop columns"
   ]
  },
  {
   "cell_type": "code",
   "execution_count": 25,
   "id": "89f56874",
   "metadata": {},
   "outputs": [],
   "source": [
    "df.drop(['first_name', 'last_name','family_status', 'n_dependants'], axis=1, inplace=True)"
   ]
  },
  {
   "cell_type": "code",
   "execution_count": 26,
   "id": "e3b3d9a0",
   "metadata": {},
   "outputs": [
    {
     "data": {
      "text/plain": [
       "Index(['user_id', 'gender', 'state', 'age', 'signup_date', 'income'], dtype='object')"
      ]
     },
     "execution_count": 26,
     "metadata": {},
     "output_type": "execute_result"
    }
   ],
   "source": [
    "df.columns"
   ]
  },
  {
   "cell_type": "markdown",
   "id": "ca32d341",
   "metadata": {},
   "source": [
    "## 07 Check for export "
   ]
  },
  {
   "cell_type": "code",
   "execution_count": 31,
   "id": "d4ae551d",
   "metadata": {},
   "outputs": [
    {
     "data": {
      "text/plain": [
       "(206209, 6)"
      ]
     },
     "execution_count": 31,
     "metadata": {},
     "output_type": "execute_result"
    }
   ],
   "source": [
    "df.shape"
   ]
  },
  {
   "cell_type": "code",
   "execution_count": 33,
   "id": "844948ea",
   "metadata": {},
   "outputs": [
    {
     "data": {
      "text/plain": [
       "user_id        object\n",
       "gender         object\n",
       "state          object\n",
       "age             int64\n",
       "signup_date    object\n",
       "income          int64\n",
       "dtype: object"
      ]
     },
     "execution_count": 33,
     "metadata": {},
     "output_type": "execute_result"
    }
   ],
   "source": [
    "df.dtypes"
   ]
  },
  {
   "cell_type": "code",
   "execution_count": null,
   "id": "a48f1719",
   "metadata": {},
   "outputs": [],
   "source": []
  },
  {
   "cell_type": "markdown",
   "id": "ecccf1b6",
   "metadata": {},
   "source": [
    "## 08 Export"
   ]
  },
  {
   "cell_type": "code",
   "execution_count": 27,
   "id": "7e68f388",
   "metadata": {},
   "outputs": [],
   "source": [
    "df.to_pickle(os.path.join(path,'_database', 'customers.pkl'))"
   ]
  }
 ],
 "metadata": {
  "kernelspec": {
   "display_name": "Python 3 (ipykernel)",
   "language": "python",
   "name": "python3"
  },
  "language_info": {
   "codemirror_mode": {
    "name": "ipython",
    "version": 3
   },
   "file_extension": ".py",
   "mimetype": "text/x-python",
   "name": "python",
   "nbconvert_exporter": "python",
   "pygments_lexer": "ipython3",
   "version": "3.10.9"
  }
 },
 "nbformat": 4,
 "nbformat_minor": 5
}
