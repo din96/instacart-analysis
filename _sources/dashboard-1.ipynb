{
 "cells": [
  {
   "cell_type": "markdown",
   "id": "c53529de",
   "metadata": {
    "extensions": {
     "jupyter_dashboards": {
      "version": 1,
      "views": {
       "grid_default": {},
       "report_default": {
        "hidden": false
       }
      }
     }
    }
   },
   "source": [
    "# Dashboard"
   ]
  },
  {
   "cell_type": "markdown",
   "id": "986d2cba",
   "metadata": {
    "extensions": {
     "jupyter_dashboards": {
      "version": 1,
      "views": {
       "grid_default": {},
       "report_default": {
        "hidden": false
       }
      }
     }
    }
   },
   "source": [
    "## 01 Setup"
   ]
  },
  {
   "cell_type": "code",
   "execution_count": 1,
   "id": "97c6598c",
   "metadata": {
    "extensions": {
     "jupyter_dashboards": {
      "version": 1,
      "views": {
       "grid_default": {},
       "report_default": {
        "hidden": true
       }
      }
     }
    }
   },
   "outputs": [],
   "source": [
    "#Import Libraries\n",
    "import pandas as pd\n",
    "import numpy as np\n",
    "import os\n",
    "import matplotlib.pyplot as plt\n",
    "import seaborn as sns\n",
    "import scipy\n",
    "from ipywidgets import interact"
   ]
  },
  {
   "cell_type": "code",
   "execution_count": 4,
   "id": "7ed8c3bd",
   "metadata": {
    "extensions": {
     "jupyter_dashboards": {
      "version": 1,
      "views": {
       "grid_default": {},
       "report_default": {
        "hidden": true
       }
      }
     }
    }
   },
   "outputs": [],
   "source": [
    "# Path\n",
    "path = r'/Users/peanutcookie/instacart-book/'"
   ]
  },
  {
   "cell_type": "code",
   "execution_count": null,
   "id": "6a70c4b0",
   "metadata": {
    "extensions": {
     "jupyter_dashboards": {
      "version": 1,
      "views": {
       "grid_default": {},
       "report_default": {
        "hidden": true
       }
      }
     }
    }
   },
   "outputs": [],
   "source": [
    "# Import orders_products_merged.pkl file\n",
    "df_orders = pd.read_pickle(os.path.join(path, '_database', 'orders_products_merged.pkl'))"
   ]
  },
  {
   "cell_type": "code",
   "execution_count": null,
   "id": "02f8270c",
   "metadata": {
    "extensions": {
     "jupyter_dashboards": {
      "version": 1,
      "views": {
       "grid_default": {},
       "report_default": {
        "hidden": true
       }
      }
     }
    }
   },
   "outputs": [],
   "source": [
    "df_orders.dtypes"
   ]
  },
  {
   "cell_type": "code",
   "execution_count": null,
   "id": "260c33b9",
   "metadata": {
    "extensions": {
     "jupyter_dashboards": {
      "version": 1,
      "views": {
       "grid_default": {},
       "report_default": {
        "hidden": true
       }
      }
     }
    }
   },
   "outputs": [],
   "source": [
    "# Import customers.pkl file\n",
    "df_customers = pd.read_pickle(os.path.join(path, '_database', 'customers.pkl'))\n",
    "df_customers.dtypes"
   ]
  },
  {
   "cell_type": "code",
   "execution_count": null,
   "id": "aa5af9ff",
   "metadata": {
    "extensions": {
     "jupyter_dashboards": {
      "version": 1,
      "views": {
       "grid_default": {},
       "report_default": {
        "hidden": true
       }
      }
     }
    }
   },
   "outputs": [],
   "source": [
    "# Merge dataframes\n",
    "df_instacart_data = df_orders.merge(df_customers, on = 'user_id')"
   ]
  },
  {
   "cell_type": "markdown",
   "id": "38b71b3c",
   "metadata": {
    "extensions": {
     "jupyter_dashboards": {
      "version": 1,
      "views": {
       "grid_default": {},
       "report_default": {
        "hidden": false
       }
      }
     }
    }
   },
   "source": [
    "## 02 Sampling data set"
   ]
  },
  {
   "cell_type": "code",
   "execution_count": null,
   "id": "c7f89a0e",
   "metadata": {
    "extensions": {
     "jupyter_dashboards": {
      "version": 1,
      "views": {
       "grid_default": {},
       "report_default": {
        "hidden": true
       }
      }
     }
    }
   },
   "outputs": [],
   "source": [
    "# Set seed\n",
    "np.random.seed(4)"
   ]
  },
  {
   "cell_type": "code",
   "execution_count": null,
   "id": "8bdc37c5",
   "metadata": {
    "extensions": {
     "jupyter_dashboards": {
      "version": 1,
      "views": {
       "grid_default": {},
       "report_default": {
        "hidden": true
       }
      }
     }
    }
   },
   "outputs": [],
   "source": [
    "# Create list of random floating numbers between 0 and 1 and uniform distribution\n",
    "dev = np.random.rand(len(df_instacart_data)) <= 0.7"
   ]
  },
  {
   "cell_type": "code",
   "execution_count": null,
   "id": "51574b43",
   "metadata": {
    "extensions": {
     "jupyter_dashboards": {
      "version": 1,
      "views": {
       "grid_default": {},
       "report_default": {
        "hidden": true
       }
      }
     }
    }
   },
   "outputs": [],
   "source": [
    "dev"
   ]
  },
  {
   "cell_type": "code",
   "execution_count": null,
   "id": "f8d1f7b7",
   "metadata": {
    "extensions": {
     "jupyter_dashboards": {
      "version": 1,
      "views": {
       "grid_default": {},
       "report_default": {
        "hidden": true
       }
      }
     }
    }
   },
   "outputs": [],
   "source": [
    "# Create a sample dataframe with 70% of the data\n",
    "sample70 = df_instacart_data[dev]"
   ]
  },
  {
   "cell_type": "code",
   "execution_count": null,
   "id": "be8a6f12",
   "metadata": {
    "extensions": {
     "jupyter_dashboards": {
      "version": 1,
      "views": {
       "grid_default": {},
       "report_default": {
        "hidden": true
       }
      }
     }
    }
   },
   "outputs": [],
   "source": [
    "# Create a sample dataframe with 30% of the data\n",
    "sample30 = df_instacart_data[~dev]"
   ]
  },
  {
   "cell_type": "code",
   "execution_count": null,
   "id": "d18d5745",
   "metadata": {
    "extensions": {
     "jupyter_dashboards": {
      "version": 1,
      "views": {
       "grid_default": {},
       "report_default": {
        "hidden": true
       }
      }
     }
    }
   },
   "outputs": [],
   "source": [
    "# Accuracy check\n",
    "len(df_instacart_data)"
   ]
  },
  {
   "cell_type": "code",
   "execution_count": null,
   "id": "45678b2d",
   "metadata": {
    "extensions": {
     "jupyter_dashboards": {
      "version": 1,
      "views": {
       "grid_default": {},
       "report_default": {
        "hidden": true
       }
      }
     }
    }
   },
   "outputs": [],
   "source": [
    "len(sample70) + len(sample30)"
   ]
  },
  {
   "cell_type": "code",
   "execution_count": null,
   "id": "f2f0e29a",
   "metadata": {
    "extensions": {
     "jupyter_dashboards": {
      "version": 1,
      "views": {
       "grid_default": {},
       "report_default": {
        "hidden": true
       }
      }
     }
    }
   },
   "outputs": [],
   "source": [
    "# Create new dataframe for further data analysis\n",
    "df_order_days_prices = sample30[['orders_day_of_week','prices']]"
   ]
  },
  {
   "cell_type": "code",
   "execution_count": null,
   "id": "bfacba22",
   "metadata": {
    "extensions": {
     "jupyter_dashboards": {
      "version": 1,
      "views": {
       "grid_default": {},
       "report_default": {
        "hidden": true
       }
      }
     }
    }
   },
   "outputs": [],
   "source": [
    "# Subset sample dataframe \n",
    "fig7sample = sample30[['order_hour_of_day', 'prices']]"
   ]
  },
  {
   "cell_type": "code",
   "execution_count": null,
   "id": "af42ac40",
   "metadata": {
    "extensions": {
     "jupyter_dashboards": {
      "version": 1,
      "views": {
       "grid_default": {},
       "report_default": {
        "hidden": true
       }
      }
     }
    }
   },
   "outputs": [],
   "source": [
    "fig8sample = sample30[['age', 'income']]"
   ]
  },
  {
   "cell_type": "code",
   "execution_count": null,
   "id": "08cd554d",
   "metadata": {
    "extensions": {
     "jupyter_dashboards": {
      "version": 1,
      "views": {
       "grid_default": {},
       "report_default": {
        "hidden": true
       }
      }
     }
    }
   },
   "outputs": [],
   "source": [
    "fig9sample = sample30[['income', 'gender', 'loyalty_flag', 'age']]"
   ]
  },
  {
   "cell_type": "markdown",
   "id": "35215b99",
   "metadata": {
    "extensions": {
     "jupyter_dashboards": {
      "version": 1,
      "views": {
       "grid_default": {},
       "report_default": {
        "hidden": false
       }
      }
     }
    }
   },
   "source": [
    "## 03 Data visualisation"
   ]
  },
  {
   "cell_type": "code",
   "execution_count": null,
   "id": "9315d8b4",
   "metadata": {
    "extensions": {
     "jupyter_dashboards": {
      "version": 1,
      "views": {
       "grid_default": {},
       "report_default": {
        "hidden": true
       }
      }
     }
    },
    "tags": [
     "{",
     "\"tags\":",
     "[",
     "\"hide-input\"",
     "]",
     "}"
    ]
   },
   "outputs": [],
   "source": [
    "# Visualise frequency of orders for week days\n",
    "fig1 = df_orders['orders_day_of_week'].value_counts().sort_index().plot.bar(color=\"green\")"
   ]
  },
  {
   "cell_type": "markdown",
   "id": "d6cc24eb",
   "metadata": {
    "extensions": {
     "jupyter_dashboards": {
      "version": 1,
      "views": {
       "grid_default": {},
       "report_default": {
        "hidden": false
       }
      }
     }
    }
   },
   "source": [
    "*Fig.1 Bar chart - frequency of orders for each day of the week.*"
   ]
  },
  {
   "cell_type": "code",
   "execution_count": null,
   "id": "99040c88",
   "metadata": {
    "extensions": {
     "jupyter_dashboards": {
      "version": 1,
      "views": {
       "grid_default": {},
       "report_default": {
        "hidden": true
       }
      }
     }
    }
   },
   "outputs": [],
   "source": [
    "# Show the density of a price (continuous) variable\n",
    "fig2 = df_orders['prices'].plot.hist(bins = 20, color=\"green\")"
   ]
  },
  {
   "cell_type": "markdown",
   "id": "0e8d93e0",
   "metadata": {
    "extensions": {
     "jupyter_dashboards": {
      "version": 1,
      "views": {
       "grid_default": {},
       "report_default": {
        "hidden": false
       }
      }
     }
    }
   },
   "source": [
    "*Fig.2 Histogram - Density of prices*"
   ]
  },
  {
   "cell_type": "code",
   "execution_count": null,
   "id": "e3c01c31",
   "metadata": {
    "extensions": {
     "jupyter_dashboards": {
      "version": 1,
      "views": {
       "grid_default": {},
       "report_default": {
        "hidden": true
       }
      }
     }
    }
   },
   "outputs": [],
   "source": [
    "# Show distribution of data points in prices\n",
    "fig3 = sns.scatterplot(x = 'prices', y = 'prices',data = df_orders, color=\"green\")"
   ]
  },
  {
   "cell_type": "markdown",
   "id": "32adbd25",
   "metadata": {
    "extensions": {
     "jupyter_dashboards": {
      "version": 1,
      "views": {
       "grid_default": {},
       "report_default": {
        "hidden": false
       }
      }
     }
    }
   },
   "source": [
    "*Fig. 3 Scatterplot - Distribution of prices.*"
   ]
  },
  {
   "cell_type": "code",
   "execution_count": null,
   "id": "d36acf37",
   "metadata": {
    "extensions": {
     "jupyter_dashboards": {
      "version": 1,
      "views": {
       "grid_default": {},
       "report_default": {
        "hidden": true
       }
      }
     }
    }
   },
   "outputs": [],
   "source": [
    "# Visualise customer spending for week days\n",
    "fig4 = sns.lineplot(data = df_order_days_prices, x = 'orders_day_of_week',y = 'prices', color=\"green\")"
   ]
  },
  {
   "cell_type": "markdown",
   "id": "8d80eeaf",
   "metadata": {
    "extensions": {
     "jupyter_dashboards": {
      "version": 1,
      "views": {
       "grid_default": {},
       "report_default": {
        "hidden": false
       }
      }
     }
    }
   },
   "source": [
    "*Fig. 4 Line chart - Change in customer spending depending on the day of the week.*"
   ]
  },
  {
   "cell_type": "code",
   "execution_count": null,
   "id": "74a21fab",
   "metadata": {
    "extensions": {
     "jupyter_dashboards": {
      "version": 1,
      "views": {
       "grid_default": {},
       "report_default": {
        "hidden": true
       }
      }
     }
    }
   },
   "outputs": [],
   "source": [
    "# Visualise customer activity during the day\n",
    "fig5 = df_orders['order_hour_of_day'].plot.hist(bins = 24, color=\"green\")"
   ]
  },
  {
   "cell_type": "markdown",
   "id": "3f5c338c",
   "metadata": {
    "extensions": {
     "jupyter_dashboards": {
      "version": 1,
      "views": {
       "grid_default": {},
       "report_default": {
        "hidden": false
       }
      }
     }
    }
   },
   "source": [
    "*Fig 5. Histogram - Customers activity during the day.*"
   ]
  },
  {
   "cell_type": "code",
   "execution_count": null,
   "id": "87d4c446",
   "metadata": {
    "extensions": {
     "jupyter_dashboards": {
      "version": 1,
      "views": {
       "grid_default": {},
       "report_default": {
        "hidden": true
       }
      }
     }
    }
   },
   "outputs": [],
   "source": [
    "# Statistics insights for day hours\n",
    "df_orders['order_hour_of_day'].describe()"
   ]
  },
  {
   "cell_type": "markdown",
   "id": "c033c8d9",
   "metadata": {
    "extensions": {
     "jupyter_dashboards": {
      "version": 1,
      "views": {
       "grid_default": {},
       "report_default": {
        "hidden": false
       }
      }
     }
    }
   },
   "source": [
    "**MOST ORDERS** = Between 8 - 18 the orders number don't drop below 1.6 mln <br/>\n",
    "**AVERAGE ORDERS** = At 19 orders osccilate below 1.6 Mln but are higher than 1 mln <br/>\n",
    "**FEWEST ORDERS** = Orders occuring between 21 and 7 are below 1 mln "
   ]
  },
  {
   "cell_type": "code",
   "execution_count": null,
   "id": "0639ff7c",
   "metadata": {
    "extensions": {
     "jupyter_dashboards": {
      "version": 1,
      "views": {
       "grid_default": {},
       "report_default": {
        "hidden": true
       }
      }
     }
    }
   },
   "outputs": [],
   "source": [
    "# Visualise distribution of loyal customers\n",
    "fig6 = df_orders['loyalty_flag'].value_counts().plot.bar(color=\"green\")"
   ]
  },
  {
   "cell_type": "markdown",
   "id": "1ec01d00",
   "metadata": {
    "extensions": {
     "jupyter_dashboards": {
      "version": 1,
      "views": {
       "grid_default": {},
       "report_default": {
        "hidden": false
       }
      }
     }
    }
   },
   "source": [
    "*Fig 6. Bar chart - Distribution of customers.*"
   ]
  },
  {
   "cell_type": "code",
   "execution_count": null,
   "id": "13950127",
   "metadata": {
    "extensions": {
     "jupyter_dashboards": {
      "version": 1,
      "views": {
       "grid_default": {},
       "report_default": {
        "hidden": true
       }
      }
     }
    }
   },
   "outputs": [],
   "source": [
    "# Visualise expediture difference\n",
    "fig7 = sns.lineplot(data = fig7sample, x = 'order_hour_of_day', y = 'prices', color=\"green\")"
   ]
  },
  {
   "cell_type": "markdown",
   "id": "083b279c",
   "metadata": {
    "extensions": {
     "jupyter_dashboards": {
      "version": 1,
      "views": {
       "grid_default": {},
       "report_default": {
        "hidden": false
       }
      }
     }
    }
   },
   "source": [
    "*Fig. 7. Lineplot - Expediture differences.*"
   ]
  },
  {
   "cell_type": "code",
   "execution_count": null,
   "id": "b14955e3",
   "metadata": {
    "extensions": {
     "jupyter_dashboards": {
      "version": 1,
      "views": {
       "grid_default": {},
       "report_default": {
        "hidden": true
       }
      }
     }
    }
   },
   "outputs": [],
   "source": [
    "# Visualise connection between age and income\n",
    "fig8 = sns.lineplot(data = fig8sample, x = 'age', y = 'income', color=\"green\")"
   ]
  },
  {
   "cell_type": "markdown",
   "id": "b84c9829",
   "metadata": {
    "extensions": {
     "jupyter_dashboards": {
      "version": 1,
      "views": {
       "grid_default": {},
       "report_default": {
        "hidden": false
       }
      }
     }
    }
   },
   "source": [
    "*Fig. 8 Line chart - Correlation between age and income.*"
   ]
  },
  {
   "cell_type": "code",
   "execution_count": null,
   "id": "1eb517e5",
   "metadata": {
    "extensions": {
     "jupyter_dashboards": {
      "version": 1,
      "views": {
       "grid_default": {},
       "report_default": {
        "hidden": true
       }
      }
     }
    }
   },
   "outputs": [],
   "source": [
    "fig9 = sns.relplot(\n",
    "    data=sample30,\n",
    "    x=\"income\", y=\"age\", hue=\"loyalty_flag\", col=\"gender\",\n",
    ")"
   ]
  },
  {
   "cell_type": "markdown",
   "id": "5c1cd6d6",
   "metadata": {
    "extensions": {
     "jupyter_dashboards": {
      "version": 1,
      "views": {
       "grid_default": {},
       "report_default": {
        "hidden": false
       }
      }
     }
    }
   },
   "source": [
    "*Fig. 9 Heatmap - Income distribution by age and gender for different customers types.*"
   ]
  },
  {
   "cell_type": "markdown",
   "id": "83dfa890",
   "metadata": {
    "extensions": {
     "jupyter_dashboards": {
      "version": 1,
      "views": {
       "grid_default": {},
       "report_default": {
        "hidden": false
       }
      }
     }
    }
   },
   "source": [
    "## 03 Export"
   ]
  },
  {
   "cell_type": "code",
   "execution_count": null,
   "id": "756203e5",
   "metadata": {
    "extensions": {
     "jupyter_dashboards": {
      "version": 1,
      "views": {
       "grid_default": {},
       "report_default": {
        "hidden": true
       }
      }
     }
    }
   },
   "outputs": [],
   "source": [
    "# Export data to pkl\n",
    "df_instacart_data.to_pickle(os.path.join(path, '_database', 'instacart_data.pkl'))"
   ]
  },
  {
   "cell_type": "code",
   "execution_count": null,
   "id": "e0643dcc",
   "metadata": {
    "extensions": {
     "jupyter_dashboards": {
      "version": 1,
      "views": {
       "grid_default": {},
       "report_default": {
        "hidden": true
       }
      }
     }
    }
   },
   "outputs": [],
   "source": [
    "fig1.figure.savefig(os.path.join(path, '_static/assets', 'fig1.png'))\n",
    "fig2.figure.savefig(os.path.join(path, '_static/assets', 'fig2.png'))\n",
    "fig3.figure.savefig(os.path.join(path, '_static/assets', 'fig3.png'))\n",
    "fig4.figure.savefig(os.path.join(path, '_static/assets', 'fig4.png'))\n",
    "fig5.figure.savefig(os.path.join(path, '_static/assets', 'fig5.png'))\n",
    "fig6.figure.savefig(os.path.join(path, '_static/assets', 'fig6.png'))\n",
    "fig7.figure.savefig(os.path.join(path, '_static/assets', 'fig7.png'))\n",
    "fig8.figure.savefig(os.path.join(path, '_static/assets', 'fig8.png'))\n",
    "fig9.figure.savefig(os.path.join(path, '_static/assets', 'fig9.png'))"
   ]
  }
 ],
 "metadata": {
  "celltoolbar": "Tags",
  "extensions": {
   "jupyter_dashboards": {
    "activeView": "grid_default",
    "version": 1,
    "views": {
     "grid_default": {
      "cellMargin": 10,
      "defaultCellHeight": 20,
      "maxColumns": 12,
      "name": "grid",
      "type": "grid"
     },
     "report_default": {
      "name": "report",
      "type": "report"
     }
    }
   }
  },
  "kernelspec": {
   "display_name": "Python 3 (ipykernel)",
   "language": "python",
   "name": "python3"
  },
  "language_info": {
   "codemirror_mode": {
    "name": "ipython",
    "version": 3
   },
   "file_extension": ".py",
   "mimetype": "text/x-python",
   "name": "python",
   "nbconvert_exporter": "python",
   "pygments_lexer": "ipython3",
   "version": "3.10.9"
  }
 },
 "nbformat": 4,
 "nbformat_minor": 5
}
