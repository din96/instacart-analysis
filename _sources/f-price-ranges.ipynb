{
 "cells": [
  {
   "cell_type": "markdown",
   "id": "7b31574b",
   "metadata": {},
   "source": [
    "# Price ranges"
   ]
  },
  {
   "cell_type": "markdown",
   "id": "dcfe24ec",
   "metadata": {},
   "source": [
    "## 01 Setup"
   ]
  },
  {
   "cell_type": "code",
   "execution_count": 37,
   "id": "5877a0bb",
   "metadata": {},
   "outputs": [],
   "source": [
    "#Import Libraries\n",
    "import pandas as pd\n",
    "import numpy as np\n",
    "import os\n",
    "import matplotlib.pyplot as plt\n",
    "import seaborn as sns\n",
    "import scipy"
   ]
  },
  {
   "cell_type": "code",
   "execution_count": 38,
   "id": "263e1179",
   "metadata": {},
   "outputs": [],
   "source": [
    "# Path\n",
    "path = r'/Users/peanutcookie/instacart-book/'"
   ]
  },
  {
   "cell_type": "code",
   "execution_count": 39,
   "id": "d2f9997b",
   "metadata": {},
   "outputs": [],
   "source": [
    "# Import orders_products_merged.pkl file\n",
    "df = pd.read_pickle(os.path.join(path, '_database', 'orders_products_merged.pkl'))"
   ]
  },
  {
   "cell_type": "code",
   "execution_count": 40,
   "id": "53d401bf",
   "metadata": {},
   "outputs": [
    {
     "name": "stdout",
     "output_type": "stream",
     "text": [
      "<class 'pandas.core.frame.DataFrame'>\n",
      "Int64Index: 32404859 entries, 0 to 32404858\n",
      "Data columns (total 16 columns):\n",
      " #   Column                  Dtype   \n",
      "---  ------                  -----   \n",
      " 0   order_id                object  \n",
      " 1   user_id                 object  \n",
      " 2   order_number            int64   \n",
      " 3   orders_day_of_week      int64   \n",
      " 4   order_hour_of_day       int64   \n",
      " 5   days_since_prior_order  float64 \n",
      " 6   new_customer            bool    \n",
      " 7   product_id              object  \n",
      " 8   add_to_cart_order       int64   \n",
      " 9   reordered               int64   \n",
      " 10  _merge                  category\n",
      " 11  product_name            object  \n",
      " 12  aisle_id                object  \n",
      " 13  department_id           object  \n",
      " 14  prices                  float64 \n",
      " 15  exists                  category\n",
      "dtypes: bool(1), category(2), float64(2), int64(5), object(6)\n",
      "memory usage: 3.5+ GB\n"
     ]
    }
   ],
   "source": [
    "df.info()"
   ]
  },
  {
   "cell_type": "markdown",
   "id": "46f874e0",
   "metadata": {},
   "source": [
    "## 02 Price ranges sorting flag"
   ]
  },
  {
   "cell_type": "code",
   "execution_count": 41,
   "id": "dad34d98",
   "metadata": {},
   "outputs": [],
   "source": [
    "# Define sorting function\n",
    "def price_label(row):\n",
    "\n",
    "  if row['prices'] <= 5:\n",
    "    return 'low'\n",
    "  elif (row['prices'] > 5) and (row['prices'] <= 15):\n",
    "    return 'mid'\n",
    "  elif row['prices'] > 15:\n",
    "    return 'high'\n",
    "  else: return 'error'"
   ]
  },
  {
   "cell_type": "code",
   "execution_count": 42,
   "id": "19c93606",
   "metadata": {},
   "outputs": [],
   "source": [
    "# Apply sorting function to the Dataframe\n",
    "df['price_range'] = df.apply(price_label, axis=1)"
   ]
  },
  {
   "cell_type": "code",
   "execution_count": 43,
   "id": "4efb62c8",
   "metadata": {},
   "outputs": [
    {
     "data": {
      "text/plain": [
       "mid     21860860\n",
       "low     10126321\n",
       "high      417678\n",
       "Name: price_range, dtype: int64"
      ]
     },
     "execution_count": 43,
     "metadata": {},
     "output_type": "execute_result"
    }
   ],
   "source": [
    "# Check 'price_range' column content\n",
    "df['price_range'].value_counts(dropna = False)"
   ]
  },
  {
   "cell_type": "code",
   "execution_count": 44,
   "id": "932fe8e2",
   "metadata": {},
   "outputs": [
    {
     "data": {
      "text/plain": [
       "99999.0"
      ]
     },
     "execution_count": 44,
     "metadata": {},
     "output_type": "execute_result"
    }
   ],
   "source": [
    "# Search for the maximum value of the 'price_range' column\n",
    "df['prices'].max()"
   ]
  },
  {
   "cell_type": "code",
   "execution_count": 45,
   "id": "4a7c80a5",
   "metadata": {},
   "outputs": [],
   "source": [
    "# Sort the high-range products\n",
    "df.loc[df['prices'] > 15, 'price_range_loc'] = 'high'"
   ]
  },
  {
   "cell_type": "code",
   "execution_count": 46,
   "id": "776f325d",
   "metadata": {},
   "outputs": [],
   "source": [
    "# Sort the mid-range products\n",
    "df.loc[(df['prices'] <= 15) & (df['prices'] > 5), 'price_range_loc'] = 'mid' "
   ]
  },
  {
   "cell_type": "code",
   "execution_count": 47,
   "id": "4e8d99b4",
   "metadata": {},
   "outputs": [],
   "source": [
    "# # Sort the low-range products\n",
    "df.loc[df['prices'] <= 5, 'price_range_loc'] = 'low'"
   ]
  },
  {
   "cell_type": "code",
   "execution_count": 48,
   "id": "c73d5b8f",
   "metadata": {},
   "outputs": [
    {
     "data": {
      "text/plain": [
       "mid     21860860\n",
       "low     10126321\n",
       "high      417678\n",
       "Name: price_range_loc, dtype: int64"
      ]
     },
     "execution_count": 48,
     "metadata": {},
     "output_type": "execute_result"
    }
   ],
   "source": [
    "df['price_range_loc'].value_counts(dropna = False)"
   ]
  },
  {
   "cell_type": "markdown",
   "id": "042067de",
   "metadata": {},
   "source": [
    "## 05 Export"
   ]
  },
  {
   "cell_type": "code",
   "execution_count": 49,
   "id": "51ee4701",
   "metadata": {},
   "outputs": [],
   "source": [
    "# Export data to pkl\n",
    "df.to_pickle(os.path.join(path, '_database', 'orders_products_merged.pkl'))"
   ]
  }
 ],
 "metadata": {
  "kernelspec": {
   "display_name": "Python 3 (ipykernel)",
   "language": "python",
   "name": "python3"
  },
  "language_info": {
   "codemirror_mode": {
    "name": "ipython",
    "version": 3
   },
   "file_extension": ".py",
   "mimetype": "text/x-python",
   "name": "python",
   "nbconvert_exporter": "python",
   "pygments_lexer": "ipython3",
   "version": "3.10.9"
  }
 },
 "nbformat": 4,
 "nbformat_minor": 5
}
